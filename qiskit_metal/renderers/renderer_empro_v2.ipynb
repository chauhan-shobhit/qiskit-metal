{
 "cells": [
  {
   "cell_type": "code",
   "execution_count": null,
   "id": "98542a6f",
   "metadata": {},
   "outputs": [],
   "source": [
    "import qiskit_metal as metal\n",
    "from qiskit_metal import designs, draw\n",
    "from qiskit_metal import MetalGUI, Dict, Headings"
   ]
  },
  {
   "cell_type": "code",
   "execution_count": null,
   "id": "993c2844",
   "metadata": {},
   "outputs": [],
   "source": [
    "import pandas as pd\n",
    "import numpy as np\n",
    "import sys"
   ]
  },
  {
   "cell_type": "code",
   "execution_count": null,
   "id": "07a52f0b",
   "metadata": {},
   "outputs": [],
   "source": [
    "design = designs.DesignPlanar({}, True)\n",
    "design.chips.main.size['size_x'] = '2mm'\n",
    "design.chips.main.size['size_y'] = '2mm'"
   ]
  },
  {
   "cell_type": "code",
   "execution_count": null,
   "id": "2b72307c",
   "metadata": {},
   "outputs": [],
   "source": [
    "gui = MetalGUI(design)"
   ]
  },
  {
   "cell_type": "code",
   "execution_count": null,
   "id": "1a292742",
   "metadata": {},
   "outputs": [],
   "source": [
    "from qiskit_metal.qlibrary.qubits.transmon_pocket import TransmonPocket\n",
    "\n",
    "design.delete_all_components()\n",
    "\n",
    "q1 = TransmonPocket(\n",
    "    design,\n",
    "    'Q1',\n",
    "    options=dict(pad_width='425 um',\n",
    "                 pocket_height='650um'))\n",
    "\n",
    "gui.rebuild()"
   ]
  },
  {
   "cell_type": "code",
   "execution_count": null,
   "id": "b64cdb77",
   "metadata": {},
   "outputs": [],
   "source": [
    "# Extract coordinates of all polygons into a list\n",
    "q1_poly=q1.qgeometry_table('poly')\n",
    "coords = []\n",
    "for item in q1_poly['geometry']:\n",
    "    coords_new = list(item.exterior.coords)\n",
    "    coords.append(coords_new)"
   ]
  },
  {
   "cell_type": "code",
   "execution_count": null,
   "id": "922f0baf",
   "metadata": {},
   "outputs": [],
   "source": [
    "names=q1_poly['name']\n",
    "print(names)"
   ]
  },
  {
   "cell_type": "code",
   "execution_count": null,
   "id": "b0d747db",
   "metadata": {},
   "outputs": [],
   "source": [
    "# Remove last tuple from each list\n",
    "rect = [] \n",
    "for item in coords:\n",
    "    rect_new = item[0:-1]\n",
    "    rect.append(rect_new)"
   ]
  },
  {
   "cell_type": "code",
   "execution_count": null,
   "id": "3841a6f5",
   "metadata": {},
   "outputs": [],
   "source": [
    "# Add zero to each tuple to make it compatible with the EMPro format\n",
    "rect_mod = []\n",
    "for i in rect:\n",
    "    for j in i:\n",
    "        rect_mod_new = j + (0.0,)\n",
    "        rect_mod.append(rect_mod_new)"
   ]
  },
  {
   "cell_type": "code",
   "execution_count": null,
   "id": "06506dc2",
   "metadata": {},
   "outputs": [],
   "source": [
    "print(rect_mod[0:4])"
   ]
  },
  {
   "cell_type": "code",
   "execution_count": null,
   "id": "d76815b2",
   "metadata": {},
   "outputs": [],
   "source": [
    "# Get the original number of elements in the geometry then split the list \n",
    "x = len(q1_poly['geometry'])\n",
    "j = 0\n",
    "vertices = [0]*4\n",
    "for i in range(x):\n",
    "    vertices[i] = rect_mod[j:j+4]\n",
    "    j += 4"
   ]
  },
  {
   "cell_type": "code",
   "execution_count": null,
   "id": "ab682b93",
   "metadata": {},
   "outputs": [],
   "source": [
    "filename = \"draw.py\""
   ]
  },
  {
   "cell_type": "code",
   "execution_count": null,
   "id": "0998e3f0",
   "metadata": {},
   "outputs": [],
   "source": [
    "with open(filename, 'a') as out:\n",
    "    out.write(\n",
    "'#Clear project space and start fresh'  + '\\n'\n",
    "'import empro' + '\\n'\n",
    "'empro.activeProject.clear()' + '\\n'\n",
    "'from empro.toolkit.via_designer.geometry import makePolygon, makePolyLine' + '\\n'+ '\\n'\n",
    "        \n",
    "        \n",
    "'width = 0.20' + '\\n'\n",
    "'height = 0.10' + '\\n')"
   ]
  },
  {
   "cell_type": "code",
   "execution_count": null,
   "id": "9dd7a492",
   "metadata": {},
   "outputs": [],
   "source": [
    "original_stdout = sys.stdout # Save a reference to the original standard output\n",
    "with open(filename, 'a') as out:\n",
    "    sys.stdout = out # Change the standard output to the file we created.\n",
    "    for i in range(x):\n",
    "        print(f'vertices_{i} = {vertices[i]}') \n",
    "    sys.stdout = original_stdout # Reset the standard output to its original value"
   ]
  },
  {
   "cell_type": "code",
   "execution_count": null,
   "id": "a554b900",
   "metadata": {},
   "outputs": [],
   "source": [
    "with open(filename, 'a') as out:\n",
    "    out.write(     \n",
    "    '\\n' + '\\n')"
   ]
  },
  {
   "cell_type": "code",
   "execution_count": null,
   "id": "839e3a3e",
   "metadata": {},
   "outputs": [],
   "source": [
    "with open(filename, 'a') as out:\n",
    "    out.write(     \n",
    "    'empro.activeProject.geometry.append(' + '\\n')\n",
    "with open(filename, 'a') as out:\n",
    "    sys.stdout = out # Change the standard output to the file we created.\n",
    "    for i in range(x):\n",
    "        print(f'makePolygon(vertices_{i} , name=\"{names[i]}\")')\n",
    "    sys.stdout = original_stdout # Reset the standard output to its original value"
   ]
  },
  {
   "cell_type": "code",
   "execution_count": null,
   "id": "d8291bbf",
   "metadata": {},
   "outputs": [],
   "source": [
    "with open(filename, 'a') as out:\n",
    "    out.write(     \n",
    "    ')' + '\\n' + '\\n')"
   ]
  },
  {
   "cell_type": "code",
   "execution_count": null,
   "id": "43c332e7",
   "metadata": {},
   "outputs": [],
   "source": []
  }
 ],
 "metadata": {
  "kernelspec": {
   "display_name": "Python 3 (ipykernel)",
   "language": "python",
   "name": "python3"
  },
  "language_info": {
   "codemirror_mode": {
    "name": "ipython",
    "version": 3
   },
   "file_extension": ".py",
   "mimetype": "text/x-python",
   "name": "python",
   "nbconvert_exporter": "python",
   "pygments_lexer": "ipython3",
   "version": "3.9.7"
  }
 },
 "nbformat": 4,
 "nbformat_minor": 5
}
